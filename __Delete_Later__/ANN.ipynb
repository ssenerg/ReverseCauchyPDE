{
 "cells": [
  {
   "cell_type": "code",
   "execution_count": 1,
   "metadata": {},
   "outputs": [],
   "source": [
    "from objects import IntervalCondition, LossFunction"
   ]
  },
  {
   "cell_type": "code",
   "execution_count": 2,
   "metadata": {},
   "outputs": [],
   "source": [
    "Xs, T = ['x1', 'x2', 'x3'], 't'\n",
    "\n",
    "F_EXPR = 'E ** x1 * sin(x2) * cos(t)' # pi => pi, e => E\n",
    "G_EXPR = ['E ** x1 * sin(x2)', 'E ** x1 * cos(x2)']\n",
    "H_EXPR = 'E ** x1 * sin(x2)'\n",
    "\n",
    "IntervalCondition.precision = 5\n",
    "\n",
    "#TODO\n",
    "X_domain_sample = np.array([])\n",
    "X_edge_sample = np.array([])\n",
    "\n",
    "T_CONDITION = IntervalCondition('[0, pi/2]')"
   ]
  },
  {
   "cell_type": "code",
   "execution_count": 4,
   "metadata": {},
   "outputs": [],
   "source": [
    "loss_function = \\\n",
    "    \n",
    "    LossFunction(\n",
    "        f_function=F_EXPR,\n",
    "        g_function=G_EXPR,\n",
    "        h_function=H_EXPR,\n",
    "        x_symbols=Xs,\n",
    "        x_domain=X_domain_sample,\n",
    "        x_edge=X_edge_sample,\n",
    "        t_condition=T_CONDITION,\n",
    "        time_symbol=T\n",
    "    )\n",
    "\n",
    "# EXAMPLE\n",
    "loss_function(0.1) # t"
   ]
  },
  {
   "cell_type": "code",
   "execution_count": 5,
   "metadata": {},
   "outputs": [
    {
     "name": "stdout",
     "output_type": "stream",
     "text": [
      "Equation System:\n",
      "  ⚬ u(X, t) = exp(x1)*sin(x2)*cos(t)\n",
      "  ⚬ ∂u(X)/∂n = [exp(x1)*sin(x2), exp(x1)*cos(x2)]\n",
      "  ⚬ h(X, t) = exp(x1)*sin(x2)\n",
      "  ⚬ X = (x1, x2)\n",
      "  ⚬ time variable = t\n",
      "  ⚬ conditions:\n",
      "    - x1 ∈ [0, 1.5708]\n",
      "    - x2 ∈ [0, 4.8105]\n",
      "\n",
      "    - t ∈ [0, 1.5708]\n",
      "\n"
     ]
    }
   ],
   "source": [
    "print(equation_system)"
   ]
  }
 ],
 "metadata": {
  "kernelspec": {
   "display_name": "venv",
   "language": "python",
   "name": "python3"
  },
  "language_info": {
   "codemirror_mode": {
    "name": "ipython",
    "version": 3
   },
   "file_extension": ".py",
   "mimetype": "text/x-python",
   "name": "python",
   "nbconvert_exporter": "python",
   "pygments_lexer": "ipython3",
   "version": "3.10.12"
  }
 },
 "nbformat": 4,
 "nbformat_minor": 2
}
